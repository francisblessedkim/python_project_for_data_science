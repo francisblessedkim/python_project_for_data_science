{
 "cells": [
  {
   "cell_type": "markdown",
   "id": "aa187149-dadf-4188-8c39-a8d7d3687c45",
   "metadata": {},
   "source": [
    "<p style=\"text-align:center\">\n",
    "    <a href=\"https://skills.network/?utm_medium=Exinfluencer&utm_source=Exinfluencer&utm_content=000026UJ&utm_term=10006555&utm_id=NA-SkillsNetwork-Channel-SkillsNetworkCoursesIBMDeveloperSkillsNetworkPY0220ENSkillsNetwork900-2022-01-01\" target=\"_blank\">\n",
    "    <img src=\"https://cf-courses-data.s3.us.cloud-object-storage.appdomain.cloud/assets/logos/SN_web_lightmode.png\" width=\"200\" alt=\"Skills Network Logo\">\n",
    "    </a>\n",
    "</p>\n"
   ]
  },
  {
   "cell_type": "markdown",
   "id": "10bf47eb-4157-46ab-bf34-11760c27187c",
   "metadata": {},
   "source": [
    "<h1>Extracting and Visualizing Stock Data</h1>\n",
    "<h2>Description</h2>\n"
   ]
  },
  {
   "cell_type": "markdown",
   "id": "3523f97d-8349-48a0-a0a2-b0ddcabb5d74",
   "metadata": {},
   "source": [
    "Extracting essential data from a dataset and displaying it is a necessary part of data science; therefore individuals can make correct decisions based on the data. In this assignment, you will extract some stock data, you will then display this data in a graph.\n"
   ]
  },
  {
   "cell_type": "markdown",
   "id": "ea4b58ef-f5fb-47c0-9695-4824b3993436",
   "metadata": {},
   "source": [
    "<h2>Table of Contents</h2>\n",
    "<div class=\"alert alert-block alert-info\" style=\"margin-top: 20px\">\n",
    "    <ul>\n",
    "        <li>Define a Function that Makes a Graph</li>\n",
    "        <li>Question 1: Use yfinance to Extract Stock Data</li>\n",
    "        <li>Question 2: Use Webscraping to Extract Tesla Revenue Data</li>\n",
    "        <li>Question 3: Use yfinance to Extract Stock Data</li>\n",
    "        <li>Question 4: Use Webscraping to Extract GME Revenue Data</li>\n",
    "        <li>Question 5: Plot Tesla Stock Graph</li>\n",
    "        <li>Question 6: Plot GameStop Stock Graph</li>\n",
    "    </ul>\n",
    "<p>\n",
    "    Estimated Time Needed: <strong>30 min</strong></p>\n",
    "</div>\n",
    "\n",
    "<hr>\n"
   ]
  },
  {
   "cell_type": "markdown",
   "id": "4b4b923b-46df-4c9f-8f23-c1a173844e20",
   "metadata": {},
   "source": [
    "***Note***:- If you are working Locally using anaconda, please uncomment the following code and execute it.\n"
   ]
  },
  {
   "cell_type": "code",
   "execution_count": 8,
   "id": "89133bf7-030b-49d1-866a-5b0343984f8c",
   "metadata": {},
   "outputs": [
    {
     "name": "stdout",
     "output_type": "stream",
     "text": [
      "Requirement already satisfied: yfinance==0.2.38 in c:\\users\\kimbl\\anaconda3\\lib\\site-packages (0.2.38)\n",
      "Requirement already satisfied: pandas>=1.3.0 in c:\\users\\kimbl\\anaconda3\\lib\\site-packages (from yfinance==0.2.38) (2.2.2)\n",
      "Requirement already satisfied: numpy>=1.16.5 in c:\\users\\kimbl\\anaconda3\\lib\\site-packages (from yfinance==0.2.38) (1.26.4)\n",
      "Requirement already satisfied: requests>=2.31 in c:\\users\\kimbl\\anaconda3\\lib\\site-packages (from yfinance==0.2.38) (2.31.0)\n",
      "Requirement already satisfied: multitasking>=0.0.7 in c:\\users\\kimbl\\anaconda3\\lib\\site-packages (from yfinance==0.2.38) (0.0.11)\n",
      "Requirement already satisfied: lxml>=4.9.1 in c:\\users\\kimbl\\anaconda3\\lib\\site-packages (from yfinance==0.2.38) (5.3.0)\n",
      "Requirement already satisfied: appdirs>=1.4.4 in c:\\users\\kimbl\\anaconda3\\lib\\site-packages (from yfinance==0.2.38) (1.4.4)\n",
      "Requirement already satisfied: pytz>=2022.5 in c:\\users\\kimbl\\anaconda3\\lib\\site-packages (from yfinance==0.2.38) (2023.3.post1)\n",
      "Requirement already satisfied: frozendict>=2.3.4 in c:\\users\\kimbl\\anaconda3\\lib\\site-packages (from yfinance==0.2.38) (2.4.2)\n",
      "Requirement already satisfied: peewee>=3.16.2 in c:\\users\\kimbl\\anaconda3\\lib\\site-packages (from yfinance==0.2.38) (3.17.8)\n",
      "Requirement already satisfied: beautifulsoup4>=4.11.1 in c:\\users\\kimbl\\anaconda3\\lib\\site-packages (from yfinance==0.2.38) (4.12.2)\n",
      "Requirement already satisfied: html5lib>=1.1 in c:\\users\\kimbl\\anaconda3\\lib\\site-packages (from yfinance==0.2.38) (1.1)\n",
      "Requirement already satisfied: soupsieve>1.2 in c:\\users\\kimbl\\anaconda3\\lib\\site-packages (from beautifulsoup4>=4.11.1->yfinance==0.2.38) (2.5)\n",
      "Requirement already satisfied: six>=1.9 in c:\\users\\kimbl\\anaconda3\\lib\\site-packages (from html5lib>=1.1->yfinance==0.2.38) (1.16.0)\n",
      "Requirement already satisfied: webencodings in c:\\users\\kimbl\\anaconda3\\lib\\site-packages (from html5lib>=1.1->yfinance==0.2.38) (0.5.1)\n",
      "Requirement already satisfied: python-dateutil>=2.8.2 in c:\\users\\kimbl\\anaconda3\\lib\\site-packages (from pandas>=1.3.0->yfinance==0.2.38) (2.8.2)\n",
      "Requirement already satisfied: tzdata>=2022.7 in c:\\users\\kimbl\\anaconda3\\lib\\site-packages (from pandas>=1.3.0->yfinance==0.2.38) (2023.3)\n",
      "Requirement already satisfied: charset-normalizer<4,>=2 in c:\\users\\kimbl\\anaconda3\\lib\\site-packages (from requests>=2.31->yfinance==0.2.38) (2.0.4)\n",
      "Requirement already satisfied: idna<4,>=2.5 in c:\\users\\kimbl\\anaconda3\\lib\\site-packages (from requests>=2.31->yfinance==0.2.38) (3.4)\n",
      "Requirement already satisfied: urllib3<3,>=1.21.1 in c:\\users\\kimbl\\anaconda3\\lib\\site-packages (from requests>=2.31->yfinance==0.2.38) (2.0.7)\n",
      "Requirement already satisfied: certifi>=2017.4.17 in c:\\users\\kimbl\\anaconda3\\lib\\site-packages (from requests>=2.31->yfinance==0.2.38) (2024.8.30)\n",
      "Requirement already satisfied: pandas==2.2.2 in c:\\users\\kimbl\\anaconda3\\lib\\site-packages (2.2.2)\n",
      "Requirement already satisfied: numpy>=1.23.2 in c:\\users\\kimbl\\anaconda3\\lib\\site-packages (from pandas==2.2.2) (1.26.4)\n",
      "Requirement already satisfied: python-dateutil>=2.8.2 in c:\\users\\kimbl\\anaconda3\\lib\\site-packages (from pandas==2.2.2) (2.8.2)\n",
      "Requirement already satisfied: pytz>=2020.1 in c:\\users\\kimbl\\anaconda3\\lib\\site-packages (from pandas==2.2.2) (2023.3.post1)\n",
      "Requirement already satisfied: tzdata>=2022.7 in c:\\users\\kimbl\\anaconda3\\lib\\site-packages (from pandas==2.2.2) (2023.3)\n",
      "Requirement already satisfied: six>=1.5 in c:\\users\\kimbl\\anaconda3\\lib\\site-packages (from python-dateutil>=2.8.2->pandas==2.2.2) (1.16.0)\n",
      "Requirement already satisfied: nbformat in c:\\users\\kimbl\\anaconda3\\lib\\site-packages (5.9.2)\n",
      "Requirement already satisfied: fastjsonschema in c:\\users\\kimbl\\anaconda3\\lib\\site-packages (from nbformat) (2.16.2)\n",
      "Requirement already satisfied: jsonschema>=2.6 in c:\\users\\kimbl\\anaconda3\\lib\\site-packages (from nbformat) (4.19.2)\n",
      "Requirement already satisfied: jupyter-core in c:\\users\\kimbl\\anaconda3\\lib\\site-packages (from nbformat) (5.5.0)\n",
      "Requirement already satisfied: traitlets>=5.1 in c:\\users\\kimbl\\anaconda3\\lib\\site-packages (from nbformat) (5.7.1)\n",
      "Requirement already satisfied: attrs>=22.2.0 in c:\\users\\kimbl\\anaconda3\\lib\\site-packages (from jsonschema>=2.6->nbformat) (23.1.0)\n",
      "Requirement already satisfied: jsonschema-specifications>=2023.03.6 in c:\\users\\kimbl\\anaconda3\\lib\\site-packages (from jsonschema>=2.6->nbformat) (2023.7.1)\n",
      "Requirement already satisfied: referencing>=0.28.4 in c:\\users\\kimbl\\anaconda3\\lib\\site-packages (from jsonschema>=2.6->nbformat) (0.30.2)\n",
      "Requirement already satisfied: rpds-py>=0.7.1 in c:\\users\\kimbl\\anaconda3\\lib\\site-packages (from jsonschema>=2.6->nbformat) (0.10.6)\n",
      "Requirement already satisfied: platformdirs>=2.5 in c:\\users\\kimbl\\anaconda3\\lib\\site-packages (from jupyter-core->nbformat) (3.10.0)\n",
      "Requirement already satisfied: pywin32>=300 in c:\\users\\kimbl\\anaconda3\\lib\\site-packages (from jupyter-core->nbformat) (305.1)\n"
     ]
    }
   ],
   "source": [
    "!pip install yfinance==0.2.38\n",
    "!pip install pandas==2.2.2\n",
    "!pip install nbformat"
   ]
  },
  {
   "cell_type": "code",
   "execution_count": 1,
   "id": "f457c8a6-4de8-42c2-a76f-8651b8e96d71",
   "metadata": {},
   "outputs": [
    {
     "name": "stdout",
     "output_type": "stream",
     "text": [
      "Requirement already satisfied: yfinance in c:\\users\\kimbl\\anaconda3\\lib\\site-packages (0.2.49)\n",
      "Requirement already satisfied: pandas>=1.3.0 in c:\\users\\kimbl\\anaconda3\\lib\\site-packages (from yfinance) (1.5.3)\n",
      "Requirement already satisfied: numpy>=1.16.5 in c:\\users\\kimbl\\anaconda3\\lib\\site-packages (from yfinance) (1.26.4)\n",
      "Requirement already satisfied: requests>=2.31 in c:\\users\\kimbl\\anaconda3\\lib\\site-packages (from yfinance) (2.31.0)\n",
      "Requirement already satisfied: multitasking>=0.0.7 in c:\\users\\kimbl\\anaconda3\\lib\\site-packages (from yfinance) (0.0.11)\n",
      "Requirement already satisfied: lxml>=4.9.1 in c:\\users\\kimbl\\anaconda3\\lib\\site-packages (from yfinance) (5.3.0)\n",
      "Requirement already satisfied: platformdirs>=2.0.0 in c:\\users\\kimbl\\anaconda3\\lib\\site-packages (from yfinance) (3.10.0)\n",
      "Requirement already satisfied: pytz>=2022.5 in c:\\users\\kimbl\\anaconda3\\lib\\site-packages (from yfinance) (2023.3.post1)\n",
      "Requirement already satisfied: frozendict>=2.3.4 in c:\\users\\kimbl\\anaconda3\\lib\\site-packages (from yfinance) (2.4.2)\n",
      "Requirement already satisfied: peewee>=3.16.2 in c:\\users\\kimbl\\anaconda3\\lib\\site-packages (from yfinance) (3.17.8)\n",
      "Requirement already satisfied: beautifulsoup4>=4.11.1 in c:\\users\\kimbl\\anaconda3\\lib\\site-packages (from yfinance) (4.12.2)\n",
      "Requirement already satisfied: html5lib>=1.1 in c:\\users\\kimbl\\anaconda3\\lib\\site-packages (from yfinance) (1.1)\n",
      "Requirement already satisfied: soupsieve>1.2 in c:\\users\\kimbl\\anaconda3\\lib\\site-packages (from beautifulsoup4>=4.11.1->yfinance) (2.5)\n",
      "Requirement already satisfied: six>=1.9 in c:\\users\\kimbl\\anaconda3\\lib\\site-packages (from html5lib>=1.1->yfinance) (1.16.0)\n",
      "Requirement already satisfied: webencodings in c:\\users\\kimbl\\anaconda3\\lib\\site-packages (from html5lib>=1.1->yfinance) (0.5.1)\n",
      "Requirement already satisfied: python-dateutil>=2.8.1 in c:\\users\\kimbl\\anaconda3\\lib\\site-packages (from pandas>=1.3.0->yfinance) (2.8.2)\n",
      "Requirement already satisfied: charset-normalizer<4,>=2 in c:\\users\\kimbl\\anaconda3\\lib\\site-packages (from requests>=2.31->yfinance) (2.0.4)\n",
      "Requirement already satisfied: idna<4,>=2.5 in c:\\users\\kimbl\\anaconda3\\lib\\site-packages (from requests>=2.31->yfinance) (3.4)\n",
      "Requirement already satisfied: urllib3<3,>=1.21.1 in c:\\users\\kimbl\\anaconda3\\lib\\site-packages (from requests>=2.31->yfinance) (2.0.7)\n",
      "Requirement already satisfied: certifi>=2017.4.17 in c:\\users\\kimbl\\anaconda3\\lib\\site-packages (from requests>=2.31->yfinance) (2024.8.30)\n",
      "Requirement already satisfied: bs4 in c:\\users\\kimbl\\anaconda3\\lib\\site-packages (0.0.2)\n",
      "Requirement already satisfied: beautifulsoup4 in c:\\users\\kimbl\\anaconda3\\lib\\site-packages (from bs4) (4.12.2)\n",
      "Requirement already satisfied: soupsieve>1.2 in c:\\users\\kimbl\\anaconda3\\lib\\site-packages (from beautifulsoup4->bs4) (2.5)\n",
      "Requirement already satisfied: nbformat in c:\\users\\kimbl\\anaconda3\\lib\\site-packages (5.9.2)\n",
      "Requirement already satisfied: fastjsonschema in c:\\users\\kimbl\\anaconda3\\lib\\site-packages (from nbformat) (2.16.2)\n",
      "Requirement already satisfied: jsonschema>=2.6 in c:\\users\\kimbl\\anaconda3\\lib\\site-packages (from nbformat) (4.19.2)\n",
      "Requirement already satisfied: jupyter-core in c:\\users\\kimbl\\anaconda3\\lib\\site-packages (from nbformat) (5.5.0)\n",
      "Requirement already satisfied: traitlets>=5.1 in c:\\users\\kimbl\\anaconda3\\lib\\site-packages (from nbformat) (5.7.1)\n",
      "Requirement already satisfied: attrs>=22.2.0 in c:\\users\\kimbl\\anaconda3\\lib\\site-packages (from jsonschema>=2.6->nbformat) (23.1.0)\n",
      "Requirement already satisfied: jsonschema-specifications>=2023.03.6 in c:\\users\\kimbl\\anaconda3\\lib\\site-packages (from jsonschema>=2.6->nbformat) (2023.7.1)\n",
      "Requirement already satisfied: referencing>=0.28.4 in c:\\users\\kimbl\\anaconda3\\lib\\site-packages (from jsonschema>=2.6->nbformat) (0.30.2)\n",
      "Requirement already satisfied: rpds-py>=0.7.1 in c:\\users\\kimbl\\anaconda3\\lib\\site-packages (from jsonschema>=2.6->nbformat) (0.10.6)\n",
      "Requirement already satisfied: platformdirs>=2.5 in c:\\users\\kimbl\\anaconda3\\lib\\site-packages (from jupyter-core->nbformat) (3.10.0)\n",
      "Requirement already satisfied: pywin32>=300 in c:\\users\\kimbl\\anaconda3\\lib\\site-packages (from jupyter-core->nbformat) (305.1)\n"
     ]
    }
   ],
   "source": [
    "!pip install yfinance\n",
    "!pip install bs4\n",
    "!pip install nbformat"
   ]
  },
  {
   "cell_type": "code",
   "execution_count": 2,
   "metadata": {},
   "outputs": [
    {
     "name": "stdout",
     "output_type": "stream",
     "text": [
      "Collecting plotly\n",
      "  Using cached plotly-5.24.1-py3-none-any.whl.metadata (7.3 kB)\n",
      "Collecting tenacity>=6.2.0 (from plotly)\n",
      "  Using cached tenacity-9.0.0-py3-none-any.whl.metadata (1.2 kB)\n",
      "Requirement already satisfied: packaging in c:\\users\\kimbl\\anaconda3\\lib\\site-packages (from plotly) (23.1)\n",
      "Using cached plotly-5.24.1-py3-none-any.whl (19.1 MB)\n",
      "Using cached tenacity-9.0.0-py3-none-any.whl (28 kB)\n",
      "Installing collected packages: tenacity, plotly\n",
      "Successfully installed plotly-5.24.1 tenacity-9.0.0\n",
      "Note: you may need to restart the kernel to use updated packages.\n"
     ]
    }
   ],
   "source": [
    "pip install plotly"
   ]
  },
  {
   "cell_type": "code",
   "execution_count": 1,
   "id": "a284503f-17a6-40d6-a558-63cd1e15de12",
   "metadata": {},
   "outputs": [],
   "source": [
    "import yfinance as yf\n",
    "import pandas as pd\n",
    "import requests\n",
    "from bs4 import BeautifulSoup\n",
    "import plotly.graph_objects as go\n",
    "from plotly.subplots import make_subplots"
   ]
  },
  {
   "cell_type": "markdown",
   "id": "b5ec07f4-f185-4b61-bfb4-179a64c14f5b",
   "metadata": {},
   "source": [
    "In Python, you can ignore warnings using the warnings module. You can use the filterwarnings function to filter or ignore specific warning messages or categories.\n"
   ]
  },
  {
   "cell_type": "code",
   "execution_count": 3,
   "id": "c048f3c7-3ddf-4687-b58e-4c818010b902",
   "metadata": {},
   "outputs": [],
   "source": [
    "import warnings\n",
    "# Ignore all warnings\n",
    "warnings.filterwarnings(\"ignore\", category=FutureWarning)"
   ]
  },
  {
   "cell_type": "markdown",
   "id": "650d18a7-84c5-4f86-b756-08533e20d0da",
   "metadata": {},
   "source": [
    "## Define Graphing Function\n"
   ]
  },
  {
   "cell_type": "markdown",
   "id": "e88193b0-e644-4a34-ae88-3375a6b67d41",
   "metadata": {},
   "source": [
    "In this section, we define the function `make_graph`. **You don't have to know how the function works, you should only care about the inputs. It takes a dataframe with stock data (dataframe must contain Date and Close columns), a dataframe with revenue data (dataframe must contain Date and Revenue columns), and the name of the stock.**\n"
   ]
  },
  {
   "cell_type": "code",
   "execution_count": 5,
   "id": "bbf60624-48dc-4100-a2df-cf8878db53c2",
   "metadata": {},
   "outputs": [],
   "source": [
    "def make_graph(stock_data, revenue_data, stock):\n",
    "    fig = make_subplots(rows=2, cols=1, shared_xaxes=True, subplot_titles=(\"Historical Share Price\", \"Historical Revenue\"), vertical_spacing = .3)\n",
    "    stock_data_specific = stock_data[stock_data.Date <= '2021--06-14']\n",
    "    revenue_data_specific = revenue_data[revenue_data.Date <= '2021-04-30']\n",
    "    fig.add_trace(go.Scatter(x=pd.to_datetime(stock_data_specific.Date), y=stock_data_specific.Close.astype(\"float\"), name=\"Share Price\"), row=1, col=1)\n",
    "    fig.add_trace(go.Scatter(x=pd.to_datetime(revenue_data_specific.Date), y=revenue_data_specific.Revenue.astype(\"float\"), name=\"Revenue\"), row=2, col=1)\n",
    "    fig.update_xaxes(title_text=\"Date\", row=1, col=1)\n",
    "    fig.update_xaxes(title_text=\"Date\", row=2, col=1)\n",
    "    fig.update_yaxes(title_text=\"Price ($US)\", row=1, col=1)\n",
    "    fig.update_yaxes(title_text=\"Revenue ($US Millions)\", row=2, col=1)\n",
    "    fig.update_layout(showlegend=False,\n",
    "    height=900,\n",
    "    title=stock,\n",
    "    xaxis_rangeslider_visible=True)\n",
    "    fig.show()"
   ]
  },
  {
   "cell_type": "markdown",
   "id": "434d3253-4697-4570-894b-31f8041d00ce",
   "metadata": {},
   "source": [
    "Use the make_graph function that we’ve already defined. You’ll need to invoke it in questions 5 and 6 to display the graphs and create the dashboard. \n",
    "> **Note: You don’t need to redefine the function for plotting graphs anywhere else in this notebook; just use the existing function.**\n"
   ]
  },
  {
   "cell_type": "markdown",
   "id": "4e1fab34-e7c6-4877-8172-b5f4e9c86557",
   "metadata": {},
   "source": [
    "## Question 1: Use yfinance to Extract Stock Data\n"
   ]
  },
  {
   "cell_type": "markdown",
   "id": "d5908b7e-e4fc-45fa-909e-a9e35e2177b7",
   "metadata": {},
   "source": [
    "Using the `Ticker` function enter the ticker symbol of the stock we want to extract data on to create a ticker object. The stock is Tesla and its ticker symbol is `TSLA`.\n"
   ]
  },
  {
   "cell_type": "code",
   "execution_count": 4,
   "id": "6c74c251-cd7c-4409-98b8-a28fe4aeb5b6",
   "metadata": {},
   "outputs": [],
   "source": [
    "tesla_ticker = yf.Ticker(\"TSLA\")"
   ]
  },
  {
   "cell_type": "markdown",
   "id": "287cffc3-4554-452b-a222-17bf0c8ca523",
   "metadata": {},
   "source": [
    "Using the ticker object and the function `history` extract stock information and save it in a dataframe named `tesla_data`. Set the `period` parameter to ` \"max\" ` so we get information for the maximum amount of time.\n"
   ]
  },
  {
   "cell_type": "code",
   "execution_count": 6,
   "id": "4c88b333-72c2-4f28-88d6-41f32937f70e",
   "metadata": {},
   "outputs": [],
   "source": [
    "import yfinance as yf\n",
    "import pandas as pd\n",
    "\n",
    "#extract historical data with maximum period \n",
    "tesla_data = tesla_ticker.history(period=\"max\")\n"
   ]
  },
  {
   "cell_type": "markdown",
   "id": "7a823fc2-d9f8-49b9-9490-ff1d52a6213c",
   "metadata": {},
   "source": [
    "**Reset the index** using the `reset_index(inplace=True)` function on the tesla_data DataFrame and display the first five rows of the `tesla_data` dataframe using the `head` function. Take a screenshot of the results and code from the beginning of Question 1 to the results below.\n"
   ]
  },
  {
   "cell_type": "code",
   "execution_count": 7,
   "id": "9bcfeb3d-f1ee-49d5-b9af-aca03350d5f9",
   "metadata": {},
   "outputs": [
    {
     "name": "stdout",
     "output_type": "stream",
     "text": [
      "                       Date      Open      High       Low     Close  \\\n",
      "0 2010-06-29 00:00:00-04:00  1.266667  1.666667  1.169333  1.592667   \n",
      "1 2010-06-30 00:00:00-04:00  1.719333  2.028000  1.553333  1.588667   \n",
      "2 2010-07-01 00:00:00-04:00  1.666667  1.728000  1.351333  1.464000   \n",
      "3 2010-07-02 00:00:00-04:00  1.533333  1.540000  1.247333  1.280000   \n",
      "4 2010-07-06 00:00:00-04:00  1.333333  1.333333  1.055333  1.074000   \n",
      "\n",
      "      Volume  Dividends  Stock Splits  \n",
      "0  281494500        0.0           0.0  \n",
      "1  257806500        0.0           0.0  \n",
      "2  123282000        0.0           0.0  \n",
      "3   77097000        0.0           0.0  \n",
      "4  103003500        0.0           0.0  \n"
     ]
    }
   ],
   "source": [
    "#reset the index\n",
    "tesla_data.reset_index(inplace=True)\n",
    "\n",
    "#Display the first five rows\n",
    "print(tesla_data.head())\n"
   ]
  },
  {
   "cell_type": "markdown",
   "id": "9fc7053f-f00c-4572-b757-85b9255ba69b",
   "metadata": {},
   "source": [
    "## Question 2: Use Webscraping to Extract Tesla Revenue Data\n"
   ]
  },
  {
   "cell_type": "markdown",
   "id": "a3b6fcf4-99af-480c-ad42-f5c90986ea37",
   "metadata": {},
   "source": [
    "Use the `requests` library to download the webpage https://cf-courses-data.s3.us.cloud-object-storage.appdomain.cloud/IBMDeveloperSkillsNetwork-PY0220EN-SkillsNetwork/labs/project/revenue.htm Save the text of the response as a variable named `html_data`.\n"
   ]
  },
  {
   "cell_type": "code",
   "execution_count": 19,
   "id": "a4228af6-b84e-4928-963f-5131d476ea3d",
   "metadata": {},
   "outputs": [
    {
     "name": "stdout",
     "output_type": "stream",
     "text": [
      "Requirement already satisfied: requests in c:\\users\\kimbl\\anaconda3\\lib\\site-packages (2.31.0)\n",
      "Requirement already satisfied: charset-normalizer<4,>=2 in c:\\users\\kimbl\\anaconda3\\lib\\site-packages (from requests) (2.0.4)\n",
      "Requirement already satisfied: idna<4,>=2.5 in c:\\users\\kimbl\\anaconda3\\lib\\site-packages (from requests) (3.4)\n",
      "Requirement already satisfied: urllib3<3,>=1.21.1 in c:\\users\\kimbl\\anaconda3\\lib\\site-packages (from requests) (2.0.7)\n",
      "Requirement already satisfied: certifi>=2017.4.17 in c:\\users\\kimbl\\anaconda3\\lib\\site-packages (from requests) (2024.8.30)\n",
      "Note: you may need to restart the kernel to use updated packages.\n"
     ]
    }
   ],
   "source": [
    "pip install requests"
   ]
  },
  {
   "cell_type": "code",
   "execution_count": 8,
   "metadata": {},
   "outputs": [
    {
     "name": "stdout",
     "output_type": "stream",
     "text": [
      "\n",
      "<!DOCTYPE html>\n",
      "<!--[if lt IE 7]>      <html class=\"no-js lt-ie9 lt-ie8 lt-ie7\"> <![endif]-->\n",
      "<!--[if IE 7]>         <html class=\"no-js lt-ie9 lt-ie8\"> <![endif]-->\n",
      "<!--[if IE 8]>         <html class=\"no-js lt-ie9\"> <![endif]-->\n",
      "<!--[if gt IE 8]><!--> <html class=\"no-js\"> <!--<![endif]-->\n",
      "    <head>\n",
      "        <meta charset=\"utf-8\">\n",
      "        <meta http-equiv=\"X-UA-Compatible\" content=\"IE=edge,chrome=1\">\n",
      "\t\t<link rel=\"canonical\" href=\"https://www.macrotrends.net/stocks/charts/TSLA/tesla/revenue\" />\n",
      "\t\n"
     ]
    }
   ],
   "source": [
    "import requests\n",
    "\n",
    "# url of the webpage to download\n",
    "url = \"https://cf-courses-data.s3.us.cloud-object-storage.appdomain.cloud/IBMDeveloperSkillsNetwork-PY0220EN-SkillsNetwork/labs/project/revenue.htm\"\n",
    "\n",
    "#send a GET request to the url\n",
    "response = requests.get(url)\n",
    "\n",
    "#save the text of the response as a variable\n",
    "html_data = response.text\n",
    "\n",
    "#output the first few charactyers of the html data to confirm\n",
    "print(html_data[:500])\n",
    "\n"
   ]
  },
  {
   "cell_type": "markdown",
   "id": "50176844-a2db-4107-b308-4e7a91989934",
   "metadata": {},
   "source": [
    "Parse the html data using `beautiful_soup` using parser i.e `html5lib` or `html.parser`. Make sure to use the `html_data` with the content parameter as follow `html_data.content` .\n"
   ]
  },
  {
   "cell_type": "code",
   "execution_count": 13,
   "id": "79457109-6276-4cc1-b1e1-00c38dc280c2",
   "metadata": {},
   "outputs": [
    {
     "name": "stdout",
     "output_type": "stream",
     "text": [
      "Requirement already satisfied: beautifulsoup4 in c:\\users\\kimbl\\anaconda3\\lib\\site-packages (4.12.2)\n",
      "Requirement already satisfied: html5lib in c:\\users\\kimbl\\anaconda3\\lib\\site-packages (1.1)\n",
      "Requirement already satisfied: soupsieve>1.2 in c:\\users\\kimbl\\anaconda3\\lib\\site-packages (from beautifulsoup4) (2.5)\n",
      "Requirement already satisfied: six>=1.9 in c:\\users\\kimbl\\anaconda3\\lib\\site-packages (from html5lib) (1.16.0)\n",
      "Requirement already satisfied: webencodings in c:\\users\\kimbl\\anaconda3\\lib\\site-packages (from html5lib) (0.5.1)\n",
      "Note: you may need to restart the kernel to use updated packages.\n"
     ]
    }
   ],
   "source": [
    "pip install beautifulsoup4 html5lib"
   ]
  },
  {
   "cell_type": "code",
   "execution_count": 9,
   "metadata": {},
   "outputs": [
    {
     "name": "stdout",
     "output_type": "stream",
     "text": [
      "<!DOCTYPE html>\n",
      "<!--[if lt IE 7]>      <html class=\"no-js lt-ie9 lt-ie8 lt-ie7\"> <![endif]-->\n",
      "<!--[if IE 7]>         <html class=\"no-js lt-ie9 lt-ie8\"> <![endif]-->\n",
      "<!--[if IE 8]>         <html class=\"no-js lt-ie9\"> <![endif]-->\n",
      "<!--[if gt IE 8]><!-->\n",
      "<html class=\"no-js\">\n",
      " <!--<![endif]-->\n",
      " <head>\n",
      "  <meta charset=\"utf-8\"/>\n",
      "  <meta content=\"IE=edge,chrome=1\" http-equiv=\"X-UA-Compatible\"/>\n",
      "  <link href=\"https://www.macrotrends.net/stocks/charts/TSLA/tesla/revenue\" rel=\"canonical\"/>\n",
      "  <title>\n",
      "   Te\n"
     ]
    }
   ],
   "source": [
    "import requests \n",
    "from bs4 import BeautifulSoup\n",
    "\n",
    "#parse the html data using BeautifulSoup with 'html.parser'\n",
    "soup = BeautifulSoup(response.content, 'html.parser')\n",
    "\n",
    "#display the first 500 characters of the parsed data \n",
    "print(soup.prettify()[:500])"
   ]
  },
  {
   "cell_type": "markdown",
   "id": "2ecd176c-0aa7-4ca8-8484-215b010e1eae",
   "metadata": {},
   "source": [
    "Using `BeautifulSoup` or the `read_html` function extract the table with `Tesla Revenue` and store it into a dataframe named `tesla_revenue`. The dataframe should have columns `Date` and `Revenue`.\n"
   ]
  },
  {
   "cell_type": "markdown",
   "id": "c41d9ad2-ac02-458b-839d-cd950602c0a2",
   "metadata": {},
   "source": [
    "<details><summary>Step-by-step instructions</summary>\n",
    "\n",
    "```\n",
    "\n",
    "Here are the step-by-step instructions:\n",
    "\n",
    "1. Find All Tables: Start by searching for all HTML tables on a webpage using `soup.find_all('table')`.\n",
    "2. Identify the Relevant Table: then loops through each table. If a table contains the text “Tesla Quarterly Revenue,”, select that table.\n",
    "3. Initialize a DataFrame: Create an empty Pandas DataFrame called `tesla_revenue` with columns “Date” and “Revenue.”\n",
    "4. Loop Through Rows: For each row in the relevant table, extract the data from the first and second columns (date and revenue).\n",
    "5. Clean Revenue Data: Remove dollar signs and commas from the revenue value.\n",
    "6. Add Rows to DataFrame: Create a new row in the DataFrame with the extracted date and cleaned revenue values.\n",
    "7. Repeat for All Rows: Continue this process for all rows in the table.\n",
    "\n",
    "```\n",
    "</details>\n"
   ]
  },
  {
   "cell_type": "markdown",
   "id": "af05f799-a22d-4cfc-bc0e-8234b02e261e",
   "metadata": {},
   "source": [
    "<details><summary>Click here if you need help locating the table</summary>\n",
    "\n",
    "```\n",
    "    \n",
    "Below is the code to isolate the table, you will now need to loop through the rows and columns like in the previous lab\n",
    "    \n",
    "soup.find_all(\"tbody\")[1]\n",
    "    \n",
    "If you want to use the read_html function the table is located at index 1\n",
    "\n",
    "We are focusing on quarterly revenue in the lab.\n",
    "> Note: Instead of using the deprecated pd.append() method, consider using pd.concat([df, pd.DataFrame], ignore_index=True).\n",
    "```\n",
    "\n",
    "</details>\n"
   ]
  },
  {
   "cell_type": "code",
   "execution_count": 10,
   "id": "33500a3a-9494-44b4-a56a-45cd547b6b66",
   "metadata": {},
   "outputs": [
    {
     "name": "stdout",
     "output_type": "stream",
     "text": [
      "   Date  Revenue\n",
      "0  2021  $53,823\n",
      "1  2020  $31,536\n",
      "2  2019  $24,578\n",
      "3  2018  $21,461\n",
      "4  2017  $11,759\n"
     ]
    }
   ],
   "source": [
    "# Find all tables \n",
    "tables = soup.find_all('table')\n",
    "\n",
    "#Assuming the tesla revenue table is the first one \n",
    "if tables:\n",
    "    tesla_revenue_table = tables[0]\n",
    "    \n",
    "    #Use pandas to read the table into a Dataframe\n",
    "    tesla_revenue = pd.read_html(str(tesla_revenue_table))[0]\n",
    "\n",
    "    #rename columns to data and revenue for clarity \n",
    "    tesla_revenue.columns = [\"Date\", \"Revenue\"]\n",
    "\n",
    "    #Display the Dataframe\n",
    "    print(tesla_revenue.head())\n",
    "else: \n",
    "    print(\"no tables found in the html content.\")"
   ]
  },
  {
   "cell_type": "markdown",
   "id": "9968dda9-ee9c-4dbd-98ab-70645ca4c3f4",
   "metadata": {},
   "source": [
    "Execute the following line to remove the comma and dollar sign from the `Revenue` column. \n"
   ]
  },
  {
   "cell_type": "code",
   "execution_count": 11,
   "id": "28dcdee7-a459-43e3-9bab-48bc4a78bbac",
   "metadata": {},
   "outputs": [],
   "source": [
    "tesla_revenue[\"Revenue\"] = tesla_revenue['Revenue'].str.replace(',|\\$',\"\", regex=True)"
   ]
  },
  {
   "cell_type": "markdown",
   "id": "282e356a-3047-4198-97cd-d137a8c85d11",
   "metadata": {},
   "source": [
    "Execute the following lines to remove an null or empty strings in the Revenue column.\n"
   ]
  },
  {
   "cell_type": "code",
   "execution_count": 12,
   "id": "0da190fa-4789-4f76-92cb-98181c9f9add",
   "metadata": {},
   "outputs": [],
   "source": [
    "tesla_revenue.dropna(inplace=True)\n",
    "\n",
    "tesla_revenue = tesla_revenue[tesla_revenue['Revenue'] != \"\"]"
   ]
  },
  {
   "cell_type": "markdown",
   "id": "8201fd00-480f-4f06-a423-bc34b8da1ab6",
   "metadata": {},
   "source": [
    "Display the last 5 row of the `tesla_revenue` dataframe using the `tail` function. Take a screenshot of the results.\n"
   ]
  },
  {
   "cell_type": "code",
   "execution_count": 13,
   "id": "58f0d1b4-ab70-47ee-83b3-28ddd62ec96d",
   "metadata": {},
   "outputs": [
    {
     "name": "stdout",
     "output_type": "stream",
     "text": [
      "    Date Revenue\n",
      "8   2013    2013\n",
      "9   2012     413\n",
      "10  2011     204\n",
      "11  2010     117\n",
      "12  2009     112\n"
     ]
    }
   ],
   "source": [
    "print(tesla_revenue.tail())"
   ]
  },
  {
   "cell_type": "markdown",
   "id": "eee79fef-dd0f-4ced-9fd6-3ef923cbaef6",
   "metadata": {},
   "source": [
    "## Question 3: Use yfinance to Extract Stock Data\n"
   ]
  },
  {
   "cell_type": "markdown",
   "id": "b36a0fc1-5a14-4080-983f-f9d20f4b960a",
   "metadata": {},
   "source": [
    "Using the `Ticker` function enter the ticker symbol of the stock we want to extract data on to create a ticker object. The stock is GameStop and its ticker symbol is `GME`.\n"
   ]
  },
  {
   "cell_type": "code",
   "execution_count": 14,
   "id": "d3da8ea9-4fd2-402a-87ce-f047ecbfd655",
   "metadata": {},
   "outputs": [],
   "source": [
    "gme_ticker = yf.Ticker(\"GME\")"
   ]
  },
  {
   "cell_type": "markdown",
   "id": "cfef197e-5e2e-4ae0-9ac5-2f26295c6527",
   "metadata": {},
   "source": [
    "Using the ticker object and the function `history` extract stock information and save it in a dataframe named `gme_data`. Set the `period` parameter to ` \"max\" ` so we get information for the maximum amount of time.\n"
   ]
  },
  {
   "cell_type": "code",
   "execution_count": 15,
   "id": "f2eebdf3-0a4f-4b9c-928c-293db2265b3c",
   "metadata": {},
   "outputs": [],
   "source": [
    "import yfinance as yf \n",
    "import pandas as pd\n",
    "\n",
    "#extract hiostorical data with maximum period\n",
    "gme_data =  gme_ticker.history(period=\"max\")"
   ]
  },
  {
   "cell_type": "markdown",
   "id": "14cc4c21-408f-4aee-9f4e-865971d98933",
   "metadata": {},
   "source": [
    "**Reset the index** using the `reset_index(inplace=True)` function on the gme_data DataFrame and display the first five rows of the `gme_data` dataframe using the `head` function. Take a screenshot of the results and code from the beginning of Question 3 to the results below.\n"
   ]
  },
  {
   "cell_type": "code",
   "execution_count": 16,
   "id": "deab424e-5f92-499d-bd5d-edd60e337123",
   "metadata": {},
   "outputs": [
    {
     "name": "stdout",
     "output_type": "stream",
     "text": [
      "                       Date      Open      High       Low     Close    Volume  \\\n",
      "0 2002-02-13 00:00:00-05:00  1.620128  1.693350  1.603296  1.691666  76216000   \n",
      "1 2002-02-14 00:00:00-05:00  1.712707  1.716074  1.670626  1.683250  11021600   \n",
      "2 2002-02-15 00:00:00-05:00  1.683251  1.687459  1.658002  1.674834   8389600   \n",
      "3 2002-02-19 00:00:00-05:00  1.666417  1.666417  1.578047  1.607504   7410400   \n",
      "4 2002-02-20 00:00:00-05:00  1.615920  1.662210  1.603296  1.662210   6892800   \n",
      "\n",
      "   Dividends  Stock Splits  \n",
      "0        0.0           0.0  \n",
      "1        0.0           0.0  \n",
      "2        0.0           0.0  \n",
      "3        0.0           0.0  \n",
      "4        0.0           0.0  \n"
     ]
    }
   ],
   "source": [
    "#reset the index \n",
    "gme_data.reset_index(inplace=True)\n",
    "\n",
    "#display the first five rows \n",
    "print(gme_data.head())"
   ]
  },
  {
   "cell_type": "markdown",
   "id": "0f2a1ecc-ce26-4c62-aa82-a55ab6631d0b",
   "metadata": {},
   "source": [
    "## Question 4: Use Webscraping to Extract GME Revenue Data\n"
   ]
  },
  {
   "cell_type": "markdown",
   "id": "0bd2faeb-66af-4b0c-b1c9-6090cc67f027",
   "metadata": {},
   "source": [
    "Use the `requests` library to download the webpage https://cf-courses-data.s3.us.cloud-object-storage.appdomain.cloud/IBMDeveloperSkillsNetwork-PY0220EN-SkillsNetwork/labs/project/stock.html. Save the text of the response as a variable named `html_data_2`.\n"
   ]
  },
  {
   "cell_type": "code",
   "execution_count": 26,
   "id": "3a54bc5a-9236-448b-8586-8dacb3c0838b",
   "metadata": {},
   "outputs": [
    {
     "name": "stdout",
     "output_type": "stream",
     "text": [
      "<!DOCTYPE html>\n",
      "<!-- saved from url=(0105)https://web.archive.org/web/20200814131437/https://www.macrotrends.net/stocks/charts/GME/gamestop/revenue -->\n",
      "<html class=\" js flexbox canvas canvastext webgl no-touch geolocation postmessage websqldatabase indexeddb hashchange history draganddrop websockets rgba hsla multiplebgs backgroundsize borderimage borderradius boxshadow textshadow opacity cssanimations csscolumns cssgradients cssreflections csstransforms csstransforms3d csstransitions fontface g\n"
     ]
    }
   ],
   "source": [
    "import requests\n",
    "\n",
    "# url of the webpage to download \n",
    "url = \"https://cf-courses-data.s3.us.cloud-object-storage.appdomain.cloud/IBMDeveloperSkillsNetwork-PY0220EN-SkillsNetwork/labs/project/stock.html\"\n",
    "\n",
    "#send a GET request to the url\n",
    "data = requests.get(url)\n",
    "\n",
    "#save the text of the response as a variable \n",
    "html_data_2 = data.text\n",
    "\n",
    "#output the first few characters of the html data to confirm \n",
    "print(html_data_2[:500])"
   ]
  },
  {
   "cell_type": "markdown",
   "id": "8ba80a9d-9da4-4305-9d75-349553c195e9",
   "metadata": {},
   "source": [
    "Parse the html data using `beautiful_soup` using parser i.e `html5lib` or `html.parser`.\n"
   ]
  },
  {
   "cell_type": "code",
   "execution_count": 27,
   "id": "7b9071cc-605a-4401-99b7-24a57cdfa119",
   "metadata": {},
   "outputs": [
    {
     "name": "stdout",
     "output_type": "stream",
     "text": [
      "<!DOCTYPE html>\n",
      "<!-- saved from url=(0105)https://web.archive.org/web/20200814131437/https://www.macrotrends.net/stocks/charts/GME/gamestop/revenue -->\n",
      "<html class=\"js flexbox canvas canvastext webgl no-touch geolocation postmessage websqldatabase indexeddb hashchange history draganddrop websockets rgba hsla multiplebgs backgroundsize borderimage borderradius boxshadow textshadow opacity cssanimations csscolumns cssgradients cssreflections csstransforms csstransforms3d csstransitions fontface ge\n"
     ]
    }
   ],
   "source": [
    "import requests\n",
    "from bs4 import BeautifulSoup\n",
    "\n",
    "#parse the html data using BeautifulSoup with 'html.parser'\n",
    "soup = BeautifulSoup(data.content, 'html.parser')\n",
    "\n",
    "#display the first 500 characters of the parsed data \n",
    "print(soup.prettify()[:500])"
   ]
  },
  {
   "cell_type": "markdown",
   "id": "f0eeb02d-8e59-4f48-86b1-76896b557b45",
   "metadata": {},
   "source": [
    "Using `BeautifulSoup` or the `read_html` function extract the table with `GameStop Revenue` and store it into a dataframe named `gme_revenue`. The dataframe should have columns `Date` and `Revenue`. Make sure the comma and dollar sign is removed from the `Revenue` column.\n"
   ]
  },
  {
   "cell_type": "markdown",
   "id": "12813bb0-d8bb-4a73-814e-42b019bb93d0",
   "metadata": {},
   "source": [
    "> **Note: Use the method similar to what you did in question 2.**  \n"
   ]
  },
  {
   "cell_type": "markdown",
   "id": "85b7f204-041c-4ce4-88c3-7ae6a4f03a74",
   "metadata": {},
   "source": [
    "<details><summary>Click here if you need help locating the table</summary>\n",
    "\n",
    "```\n",
    "    \n",
    "Below is the code to isolate the table, you will now need to loop through the rows and columns like in the previous lab\n",
    "    \n",
    "soup.find_all(\"tbody\")[1]\n",
    "    \n",
    "If you want to use the read_html function the table is located at index 1\n",
    "\n",
    "\n",
    "```\n",
    "\n",
    "</details>\n"
   ]
  },
  {
   "cell_type": "code",
   "execution_count": 28,
   "id": "e1ddcbc3-5917-472b-990f-cfc1dd4adda0",
   "metadata": {},
   "outputs": [
    {
     "name": "stdout",
     "output_type": "stream",
     "text": [
      "   Date Revenue\n",
      "0  2020  $6,466\n",
      "1  2019  $8,285\n",
      "2  2018  $8,547\n",
      "3  2017  $7,965\n",
      "4  2016  $9,364\n"
     ]
    }
   ],
   "source": [
    "# Find all tables \n",
    "tables = soup.find_all('table')\n",
    "\n",
    "#Assuming the gamestop revenue table is the first one \n",
    "if tables:\n",
    "    gme_revenue_table = tables[0]\n",
    "    \n",
    "    #Use pandas to read the table into a Dataframe\n",
    "    gme_revenue = pd.read_html(str(gme_revenue_table))[0]\n",
    "\n",
    "    #rename columns to data and revenue for clarity \n",
    "    gme_revenue.columns = [\"Date\", \"Revenue\"]\n",
    "\n",
    "    #Display the Dataframe\n",
    "    print(gme_revenue.head())\n",
    "else: \n",
    "    print(\"no tables found in the html content.\")"
   ]
  },
  {
   "cell_type": "markdown",
   "id": "ca16878d-90c9-48a6-9516-3af246d13781",
   "metadata": {},
   "source": [
    "Display the last five rows of the `gme_revenue` dataframe using the `tail` function. Take a screenshot of the results.\n"
   ]
  },
  {
   "cell_type": "code",
   "execution_count": 29,
   "id": "ee03fbe2-54cb-42dd-a0c7-f91e33f81b84",
   "metadata": {},
   "outputs": [
    {
     "name": "stdout",
     "output_type": "stream",
     "text": [
      "    Date Revenue\n",
      "11  2009  $8,806\n",
      "12  2008  $7,094\n",
      "13  2007  $5,319\n",
      "14  2006  $3,092\n",
      "15  2005  $1,843\n"
     ]
    }
   ],
   "source": [
    "print(gme_revenue.tail())"
   ]
  },
  {
   "cell_type": "markdown",
   "id": "fd83e0c6-cf8c-470e-bf21-c788bbbe5c18",
   "metadata": {},
   "source": [
    "## Question 5: Plot Tesla Stock Graph\n"
   ]
  },
  {
   "cell_type": "markdown",
   "id": "e53bfab4-d856-4127-9fe5-46bc410c3f80",
   "metadata": {},
   "source": [
    "Use the `make_graph` function to graph the Tesla Stock Data, also provide a title for the graph. Note the graph will only show data upto June 2021.\n"
   ]
  },
  {
   "cell_type": "markdown",
   "id": "cef65dfb-db27-4fd1-bd87-0952d8e6b3c6",
   "metadata": {},
   "source": [
    "<details><summary>Hint</summary>\n",
    "\n",
    "```\n",
    "\n",
    "You just need to invoke the make_graph function with the required parameter to print the graphs.The structure to call the `make_graph` function is `make_graph(tesla_data, tesla_revenue, 'Tesla')`.\n",
    "\n",
    "```\n",
    "    \n",
    "</details>\n"
   ]
  },
  {
   "cell_type": "code",
   "execution_count": 32,
   "id": "6ba792ed-ab97-4739-afed-610df150eec2",
   "metadata": {},
   "outputs": [
    {
     "name": "stdout",
     "output_type": "stream",
     "text": [
      "Requirement already satisfied: matplotlib in c:\\users\\kimbl\\anaconda3\\lib\\site-packages (3.9.2)\n",
      "Requirement already satisfied: pandas in c:\\users\\kimbl\\anaconda3\\lib\\site-packages (2.2.2)\n",
      "Requirement already satisfied: contourpy>=1.0.1 in c:\\users\\kimbl\\anaconda3\\lib\\site-packages (from matplotlib) (1.2.0)\n",
      "Requirement already satisfied: cycler>=0.10 in c:\\users\\kimbl\\anaconda3\\lib\\site-packages (from matplotlib) (0.12.1)\n",
      "Requirement already satisfied: fonttools>=4.22.0 in c:\\users\\kimbl\\anaconda3\\lib\\site-packages (from matplotlib) (4.54.1)\n",
      "Requirement already satisfied: kiwisolver>=1.3.1 in c:\\users\\kimbl\\anaconda3\\lib\\site-packages (from matplotlib) (1.4.7)\n",
      "Requirement already satisfied: numpy>=1.23 in c:\\users\\kimbl\\anaconda3\\lib\\site-packages (from matplotlib) (1.26.4)\n",
      "Requirement already satisfied: packaging>=20.0 in c:\\users\\kimbl\\anaconda3\\lib\\site-packages (from matplotlib) (23.1)\n",
      "Requirement already satisfied: pillow>=8 in c:\\users\\kimbl\\anaconda3\\lib\\site-packages (from matplotlib) (10.2.0)\n",
      "Requirement already satisfied: pyparsing>=2.3.1 in c:\\users\\kimbl\\anaconda3\\lib\\site-packages (from matplotlib) (3.1.4)\n",
      "Requirement already satisfied: python-dateutil>=2.7 in c:\\users\\kimbl\\anaconda3\\lib\\site-packages (from matplotlib) (2.8.2)\n",
      "Requirement already satisfied: pytz>=2020.1 in c:\\users\\kimbl\\anaconda3\\lib\\site-packages (from pandas) (2023.3.post1)\n",
      "Requirement already satisfied: tzdata>=2022.7 in c:\\users\\kimbl\\anaconda3\\lib\\site-packages (from pandas) (2023.3)\n",
      "Requirement already satisfied: six>=1.5 in c:\\users\\kimbl\\anaconda3\\lib\\site-packages (from python-dateutil>=2.7->matplotlib) (1.16.0)\n",
      "Note: you may need to restart the kernel to use updated packages.\n"
     ]
    }
   ],
   "source": [
    "pip install matplotlib pandas"
   ]
  },
  {
   "cell_type": "code",
   "execution_count": 30,
   "metadata": {},
   "outputs": [
    {
     "data": {
      "image/png": "[encoded data removed]",
      "text/plain": [
       "<Figure size 1200x600 with 1 Axes>"
      ]
     },
     "metadata": {},
     "output_type": "display_data"
    }
   ],
   "source": [
    "import matplotlib.pyplot as plt\n",
    "\n",
    "#define the make_graph function\n",
    "def make_graph(dataframe, title, x_column, y_column):\n",
    "    plt.figure(figsize=(12, 6))\n",
    "    plt.plot(dataframe[x_column], dataframe[y_column],\n",
    "label=y_column, color=\"blue\", marker=\"o\")\n",
    "    plt.title(title, fontsize=16)\n",
    "    plt.xlabel(x_column, fontsize=14)\n",
    "    plt.ylabel(y_column, fontsize=14)\n",
    "    plt.grid(True)\n",
    "    plt.legend()\n",
    "    plt.show()\n",
    "    \n",
    "#plot the tesla revenue data\n",
    "make_graph(tesla_revenue, \"Telsa revenue over time\", \"Date\", \"Revenue\")"
   ]
  },
  {
   "cell_type": "markdown",
   "id": "894de5f3-4739-4d7e-b099-6ebd9bfe51a9",
   "metadata": {},
   "source": [
    "## Question 6: Plot GameStop Stock Graph\n"
   ]
  },
  {
   "cell_type": "markdown",
   "id": "8dffc84a-6692-4478-a0b0-6bd713cdb576",
   "metadata": {},
   "source": [
    "Use the `make_graph` function to graph the GameStop Stock Data, also provide a title for the graph. The structure to call the `make_graph` function is `make_graph(gme_data, gme_revenue, 'GameStop')`. Note the graph will only show data upto June 2021.\n"
   ]
  },
  {
   "cell_type": "markdown",
   "id": "f8d4f91f-aa8e-4430-bff4-d9427ee9e553",
   "metadata": {},
   "source": [
    "<details><summary>Hint</summary>\n",
    "\n",
    "```\n",
    "\n",
    "You just need to invoke the make_graph function with the required parameter to print the graphs.The structure to call the `make_graph` function is `make_graph(gme_data, gme_revenue, 'GameStop')`\n",
    "\n",
    "```\n",
    "    \n",
    "</details>\n"
   ]
  },
  {
   "cell_type": "code",
   "execution_count": 31,
   "id": "c1acbfc7-05af-46e5-ac8d-ab60ef6a8aa3",
   "metadata": {},
   "outputs": [
    {
     "data": {
      "image/png": "[encoded data removed]",
      "text/plain": [
       "<Figure size 1200x600 with 1 Axes>"
      ]
     },
     "metadata": {},
     "output_type": "display_data"
    }
   ],
   "source": [
    "import matplotlib.pyplot as plt\n",
    "\n",
    "#define the make_graph function\n",
    "def make_graph(dataframe, title, x_column, y_column):\n",
    "    plt.figure(figsize=(12, 6))\n",
    "    plt.plot(dataframe[x_column], dataframe[y_column],\n",
    "label=y_column, color=\"blue\", marker=\"o\")\n",
    "    plt.title(title, fontsize=16)\n",
    "    plt.xlabel(x_column, fontsize=14)\n",
    "    plt.ylabel(y_column, fontsize=14)\n",
    "    plt.grid(True)\n",
    "    plt.legend()\n",
    "    plt.show()\n",
    "    \n",
    "#plot the Gamestop revenue data\n",
    "make_graph(gme_revenue, \"Gamestop revenue over time\", \"Date\", \"Revenue\")"
   ]
  },
  {
   "cell_type": "markdown",
   "id": "90719df3-5716-43b1-853f-d71b18da37db",
   "metadata": {},
   "source": [
    "<h2>About the Authors:</h2> \n",
    "\n",
    "<a href=\"https://www.linkedin.com/in/joseph-s-50398b136/\">Joseph Santarcangelo</a> has a PhD in Electrical Engineering, his research focused on using machine learning, signal processing, and computer vision to determine how videos impact human cognition. Joseph has been working for IBM since he completed his PhD.\n"
   ]
  },
  {
   "cell_type": "markdown",
   "id": "1680e1e8-45cd-4f15-95ec-8b6afde9a8e1",
   "metadata": {},
   "source": [
    "## <h3 align=\"center\"> © IBM Corporation 2020. All rights reserved. <h3/>\n",
    "\n",
    "```toggle ## Change Log\n",
    "```\n",
    "```toggle | Date (YYYY-MM-DD) | Version | Changed By    | Change Description        |\n",
    "```\n",
    "```toggle | ----------------- | ------- | ------------- | ------------------------- |\n",
    "```\n",
    "```toggle | 2022-02-28        | 1.2     | Lakshmi Holla | Changed the URL of GameStop |\n",
    "```\n",
    "```toggle | 2020-11-10        | 1.1     | Malika Singla | Deleted the Optional part |\n",
    "```\n",
    "```toggle | 2020-08-27        | 1.0     | Malika Singla | Added lab to GitLab       |\n",
    "```\n"
   ]
  }
 ],
 "metadata": {
  "kernelspec": {
   "display_name": "Python 3 (ipykernel)",
   "language": "python",
   "name": "python3"
  },
  "language_info": {
   "codemirror_mode": {
    "name": "ipython",
    "version": 3
   },
   "file_extension": ".py",
   "mimetype": "text/x-python",
   "name": "python",
   "nbconvert_exporter": "python",
   "pygments_lexer": "ipython3",
   "version": "3.11.7"
  },
  "prev_pub_hash": "3eff379447b11bb93fcfe9128340484c280bbca92c51ece98405a1f05537425b"
 },
 "nbformat": 4,
 "nbformat_minor": 4
}
